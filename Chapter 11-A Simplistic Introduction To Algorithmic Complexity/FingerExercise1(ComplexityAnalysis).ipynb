{
 "cells": [
  {
   "cell_type": "code",
   "execution_count": null,
   "metadata": {},
   "outputs": [],
   "source": [
    "def g(L, e):\n",
    "    \"\"\"L a list of ints, e is an int\"\"\"\n",
    "    for i in range(100):\n",
    "        for e1 in L:\n",
    "            if e1 == e:\n",
    "                return True\n",
    "\treturn False"
   ]
  },
  {
   "cell_type": "markdown",
   "metadata": {},
   "source": [
    "The inner for loop will be executed len(L) times in worst case and there are two fixed operations \n",
    "assigning corresponding value to e1 and comparing the value of e1 to e. The outer loop will be executed\n",
    "100 times. So, let **n** be the number of elements in L. Then the total number of steps(operations) is **(100 * 2 * n) + 1** --> **200n + 1**(plus 1 is from the last return statement). \n",
    "\n",
    "$$f(n) = 200n + 1 $$ In order to find corresponding Big Theta($\\Theta$) for this function lets write corresponding inequalities ;\n",
    "$$\\forall n > N$$\n",
    "$$f(n) = 200n + 1 < 200n + n = 201n = c_{1}g(n) $$\n",
    "$$f(n) = 200n + 1 > 200n = c_{2}g(n) $$\n",
    "$$c_{2}g(n) < f(n) < c_{1}g(n)$$\n",
    "Finally;\n",
    "$$f(n) \\in \\Theta(n)$$\n"
   ]
  },
  {
   "cell_type": "code",
   "execution_count": 4,
   "metadata": {},
   "outputs": [],
   "source": [
    "def h(L, e):\n",
    "    \"\"\"L a list of ints, e is an int\"\"\"\n",
    "    for i in range(e):\n",
    "        for e1 in L:\n",
    "            if e1 == e:\n",
    "                return True\n",
    "    return False"
   ]
  },
  {
   "cell_type": "markdown",
   "metadata": {},
   "source": [
    "The inner for loop will be executed len(L) times in worst case and there are two fixed operations \n",
    "assigning corresponding value to e1 and comparing the value of e1 to e. The outer loop will be executed\n",
    "e times. So, let **n** be the number of elements in L. Then the total number of steps(operations) is **(e * 2 * n) + 1** --> **2en + 1**(plus 1 is from the last return statement). \n",
    "\n",
    "$$f(n) = 2en + 1 $$ In order to find corresponding Big Theta($\\Theta$) for this function lets write corresponding inequalities ;\n",
    "$$\\forall n > N$$\n",
    "2e is just a constant just like any other number(and in the worst case e is a positive number)\n",
    "$$f(n) = 2en + 1 < 2en + en = 3en = c_{1}g(n)$$\n",
    "$$f(n) = 2en + 1 > 2en = c_{2}g(n) $$\n",
    "$$c_{2}g(n) < f(n) < c_{1}g(n)$$\n",
    "Finally;\n",
    "$$f(n) \\in \\Theta(n)$$\n"
   ]
  }
 ],
 "metadata": {
  "kernelspec": {
   "display_name": "Python 3",
   "language": "python",
   "name": "python3"
  },
  "language_info": {
   "codemirror_mode": {
    "name": "ipython",
    "version": 3
   },
   "file_extension": ".py",
   "mimetype": "text/x-python",
   "name": "python",
   "nbconvert_exporter": "python",
   "pygments_lexer": "ipython3",
   "version": "3.8.5"
  }
 },
 "nbformat": 4,
 "nbformat_minor": 4
}
