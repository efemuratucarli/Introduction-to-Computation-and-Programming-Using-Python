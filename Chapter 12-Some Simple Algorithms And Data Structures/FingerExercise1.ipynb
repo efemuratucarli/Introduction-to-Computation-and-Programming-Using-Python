{
 "cells": [
  {
   "cell_type": "code",
   "execution_count": 1,
   "metadata": {},
   "outputs": [],
   "source": [
    "def search(L, e):\n",
    "    \"\"\"\"Assumes L is a list, the elements of which are in\n",
    "    ascending order.\n",
    "    Returns True if e is in L and False otherwise\"\"\"\n",
    "    def bin_search(L, e, low, high):\n",
    "        #Decrements high - low \n",
    "        if high == low:\n",
    "            return L[low] == e\n",
    "        mid = (low + high)//2 \n",
    "        if L[mid] == e: \n",
    "            return True \n",
    "        elif L[mid] > e:\n",
    "            if low == mid: #nothing left to search\n",
    "                return False\n",
    "            else:\n",
    "                return bin_search(L, e, low, mid - 1)\n",
    "        else:\n",
    "            return bin_search(L, e, mid + 1, high)\n",
    "    if len(L) == 0: \n",
    "        return False\n",
    "    else:\n",
    "        return bin_search(L, e, 0, len(L) - 1)"
   ]
  },
  {
   "cell_type": "markdown",
   "metadata": {},
   "source": [
    "**Q**: Why does the code use mid+1 rather than mid in\n",
    "the second recursive call?"
   ]
  },
  {
   "cell_type": "markdown",
   "metadata": {},
   "source": [
    "**A**: Because if we reach the else clause in bin_seach function that means the middle value is neither greater than e nor equal to e. Therefore middle value is less than e which means in the consecutive call of bin_search, the search space interval should be between mid+1 and high.(previous mid value is already eliminated because it is less than e)"
   ]
  }
 ],
 "metadata": {
  "kernelspec": {
   "display_name": "Python 3",
   "language": "python",
   "name": "python3"
  },
  "language_info": {
   "codemirror_mode": {
    "name": "ipython",
    "version": 3
   },
   "file_extension": ".py",
   "mimetype": "text/x-python",
   "name": "python",
   "nbconvert_exporter": "python",
   "pygments_lexer": "ipython3",
   "version": "3.8.5"
  }
 },
 "nbformat": 4,
 "nbformat_minor": 4
}
